{
 "cells": [
  {
   "cell_type": "code",
   "execution_count": 1,
   "id": "e062c2b3",
   "metadata": {},
   "outputs": [],
   "source": [
    "#Importing libraries\n",
    "import pandas as pd \n",
    "import numpy as np \n",
    "import tensorflow as tf  \n",
    "import matplotlib.pyplot as plt "
   ]
  },
  {
   "cell_type": "code",
   "execution_count": 2,
   "id": "2e5aa853",
   "metadata": {},
   "outputs": [],
   "source": [
    "# Importing Additional Libraries for Nueral Network\n",
    "from sklearn.model_selection import train_test_split\n",
    "from tensorflow.keras.preprocessing.text import Tokenizer\n",
    "from tensorflow.keras.preprocessing.sequence import pad_sequences\n",
    "from tensorflow.keras.models import Sequential\n",
    "from tensorflow.keras.layers import Dense"
   ]
  },
  {
   "cell_type": "code",
   "execution_count": 3,
   "id": "e68969a7",
   "metadata": {},
   "outputs": [],
   "source": [
    "#Data Preparation\n",
    "dataset = pd.read_csv('spam.csv',encoding='latin-1')"
   ]
  },
  {
   "cell_type": "code",
   "execution_count": 4,
   "id": "7ed5f40a",
   "metadata": {},
   "outputs": [],
   "source": [
    "dataset = dataset.drop([\"Unnamed: 2\", \"Unnamed: 3\", \"Unnamed: 4\"], axis=1)"
   ]
  },
  {
   "cell_type": "code",
   "execution_count": 5,
   "id": "f73ee3ad",
   "metadata": {},
   "outputs": [],
   "source": [
    "dataset = dataset.rename(columns={\"v1\":'label', \"v2\":'text'})"
   ]
  },
  {
   "cell_type": "code",
   "execution_count": 6,
   "id": "87e8c555",
   "metadata": {},
   "outputs": [],
   "source": [
    "#Data Display\n",
    "tags = dataset[\"label\"]\n",
    "texts = dataset[\"text\"]"
   ]
  },
  {
   "cell_type": "code",
   "execution_count": 7,
   "id": "5f324993",
   "metadata": {},
   "outputs": [],
   "source": [
    "#Label Classification (0 or 1)\n",
    "dataset['label'].unique()\n",
    "label = {'spam': 1,'ham': 0}\n",
    "dataset['label'].replace(label, inplace=True)"
   ]
  },
  {
   "cell_type": "code",
   "execution_count": 8,
   "id": "4a379624",
   "metadata": {},
   "outputs": [],
   "source": [
    "#Training data Preparation\n",
    "training_size = int(len(texts) * 0.8)"
   ]
  },
  {
   "cell_type": "code",
   "execution_count": 9,
   "id": "4b0d6dca",
   "metadata": {},
   "outputs": [],
   "source": [
    "#Text Data Training\n",
    "training_texts = texts[0:training_size]\n",
    "testing_texts = texts[training_size:]"
   ]
  },
  {
   "cell_type": "code",
   "execution_count": 10,
   "id": "b9645e4f",
   "metadata": {},
   "outputs": [],
   "source": [
    "#Tags Data Traning\n",
    "training_tags = tags[0:training_size]\n",
    "testing_tags = tags[training_size:]"
   ]
  },
  {
   "cell_type": "code",
   "execution_count": 11,
   "id": "ac3e1aa5",
   "metadata": {},
   "outputs": [],
   "source": [
    "#Label Convertion to numpy \n",
    "training_tags_final = np.array(training_tags)\n",
    "testing_tags_final = np.array(testing_tags)"
   ]
  },
  {
   "cell_type": "code",
   "execution_count": 12,
   "id": "2aead27f",
   "metadata": {},
   "outputs": [],
   "source": [
    "#Tokenize Dataset \n",
    "vocab_size = 1000\n",
    "embedding_dim = 16\n",
    "max_length = 100"
   ]
  },
  {
   "cell_type": "code",
   "execution_count": 13,
   "id": "d77224d7",
   "metadata": {},
   "outputs": [],
   "source": [
    "trunc_type='post'\n",
    "padding_type='post'\n",
    "oov_tok = \"<OOV>\""
   ]
  },
  {
   "cell_type": "code",
   "execution_count": 14,
   "id": "0d5eaeb6",
   "metadata": {},
   "outputs": [],
   "source": [
    "tokenizer = Tokenizer(num_words = vocab_size, oov_token=oov_tok)\n",
    "tokenizer.fit_on_texts(training_texts)\n",
    "word_index = tokenizer.word_index\n",
    "sequences = tokenizer.texts_to_sequences(training_texts)\n",
    "padded = pad_sequences(sequences,maxlen=max_length, padding=padding_type, \n",
    "                       truncating=trunc_type)"
   ]
  },
  {
   "cell_type": "code",
   "execution_count": 15,
   "id": "3176aad6",
   "metadata": {},
   "outputs": [],
   "source": [
    "testing_sequences = tokenizer.texts_to_sequences(testing_texts)\n",
    "testing_padded = pad_sequences(testing_sequences,maxlen=max_length, \n",
    "                               padding=padding_type, truncating=trunc_type)"
   ]
  },
  {
   "cell_type": "code",
   "execution_count": 16,
   "id": "9f8480cf",
   "metadata": {},
   "outputs": [],
   "source": [
    "#Data Modelling\n",
    "model = tf.keras.Sequential([\n",
    "    tf.keras.layers.Embedding(vocab_size, embedding_dim, input_length=max_length),\n",
    "    tf.keras.layers.Flatten(),\n",
    "    tf.keras.layers.Dense(6, activation='relu'),\n",
    "    tf.keras.layers.Dense(1, activation='sigmoid')\n",
    "])"
   ]
  },
  {
   "cell_type": "code",
   "execution_count": 17,
   "id": "b7f48eac",
   "metadata": {},
   "outputs": [
    {
     "name": "stdout",
     "output_type": "stream",
     "text": [
      "Model: \"sequential\"\n",
      "_________________________________________________________________\n",
      " Layer (type)                Output Shape              Param #   \n",
      "=================================================================\n",
      " embedding (Embedding)       (None, 100, 16)           16000     \n",
      "                                                                 \n",
      " flatten (Flatten)           (None, 1600)              0         \n",
      "                                                                 \n",
      " dense (Dense)               (None, 6)                 9606      \n",
      "                                                                 \n",
      " dense_1 (Dense)             (None, 1)                 7         \n",
      "                                                                 \n",
      "=================================================================\n",
      "Total params: 25,613\n",
      "Trainable params: 25,613\n",
      "Non-trainable params: 0\n",
      "_________________________________________________________________\n"
     ]
    }
   ],
   "source": [
    "#Model Data Display\n",
    "model.compile(loss='binary_crossentropy',optimizer='adam',metrics=['accuracy'])\n",
    "model.summary()"
   ]
  },
  {
   "cell_type": "code",
   "execution_count": 18,
   "id": "7e2542f9",
   "metadata": {},
   "outputs": [
    {
     "name": "stdout",
     "output_type": "stream",
     "text": [
      "Epoch 1/35\n",
      "140/140 [==============================] - 1s 2ms/step - loss: 0.3155 - accuracy: 0.8645 - val_loss: 0.1766 - val_accuracy: 0.8700\n",
      "Epoch 2/35\n",
      "140/140 [==============================] - 0s 1ms/step - loss: 0.1599 - accuracy: 0.9396 - val_loss: 0.1376 - val_accuracy: 0.9722\n",
      "Epoch 3/35\n",
      "140/140 [==============================] - 0s 1ms/step - loss: 0.1291 - accuracy: 0.9771 - val_loss: 0.1227 - val_accuracy: 0.9812\n",
      "Epoch 4/35\n",
      "140/140 [==============================] - 0s 1ms/step - loss: 0.1115 - accuracy: 0.9838 - val_loss: 0.1142 - val_accuracy: 0.9830\n",
      "Epoch 5/35\n",
      "140/140 [==============================] - 0s 1ms/step - loss: 0.0987 - accuracy: 0.9890 - val_loss: 0.1080 - val_accuracy: 0.9848\n",
      "Epoch 6/35\n",
      "140/140 [==============================] - 0s 1ms/step - loss: 0.0878 - accuracy: 0.9917 - val_loss: 0.1042 - val_accuracy: 0.9848\n",
      "Epoch 7/35\n",
      "140/140 [==============================] - 0s 1ms/step - loss: 0.0785 - accuracy: 0.9926 - val_loss: 0.0994 - val_accuracy: 0.9848\n",
      "Epoch 8/35\n",
      "140/140 [==============================] - 0s 1ms/step - loss: 0.0709 - accuracy: 0.9951 - val_loss: 0.0986 - val_accuracy: 0.9830\n",
      "Epoch 9/35\n",
      "140/140 [==============================] - 0s 1ms/step - loss: 0.0638 - accuracy: 0.9960 - val_loss: 0.0965 - val_accuracy: 0.9848\n",
      "Epoch 10/35\n",
      "140/140 [==============================] - 0s 1ms/step - loss: 0.0585 - accuracy: 0.9969 - val_loss: 0.0953 - val_accuracy: 0.9857\n",
      "Epoch 11/35\n",
      "140/140 [==============================] - 0s 1ms/step - loss: 0.0170 - accuracy: 0.9980 - val_loss: 0.0601 - val_accuracy: 0.9848\n",
      "Epoch 12/35\n",
      "140/140 [==============================] - 0s 1ms/step - loss: 0.0096 - accuracy: 0.9978 - val_loss: 0.0612 - val_accuracy: 0.9848\n",
      "Epoch 13/35\n",
      "140/140 [==============================] - 0s 1ms/step - loss: 0.0074 - accuracy: 0.9982 - val_loss: 0.0674 - val_accuracy: 0.9839\n",
      "Epoch 14/35\n",
      "140/140 [==============================] - 0s 1ms/step - loss: 0.0062 - accuracy: 0.9987 - val_loss: 0.0738 - val_accuracy: 0.9857\n",
      "Epoch 15/35\n",
      "140/140 [==============================] - 0s 1ms/step - loss: 0.0046 - accuracy: 0.9993 - val_loss: 0.0736 - val_accuracy: 0.9857\n",
      "Epoch 16/35\n",
      "140/140 [==============================] - 0s 1ms/step - loss: 0.0037 - accuracy: 0.9996 - val_loss: 0.0734 - val_accuracy: 0.9865\n",
      "Epoch 17/35\n",
      "140/140 [==============================] - 0s 1ms/step - loss: 0.0032 - accuracy: 0.9998 - val_loss: 0.0782 - val_accuracy: 0.9865\n",
      "Epoch 18/35\n",
      "140/140 [==============================] - 0s 1ms/step - loss: 0.0031 - accuracy: 0.9993 - val_loss: 0.0780 - val_accuracy: 0.9865\n",
      "Epoch 19/35\n",
      "140/140 [==============================] - 0s 1ms/step - loss: 0.0026 - accuracy: 0.9996 - val_loss: 0.0796 - val_accuracy: 0.9865\n",
      "Epoch 20/35\n",
      "140/140 [==============================] - 0s 1ms/step - loss: 0.0023 - accuracy: 0.9998 - val_loss: 0.0830 - val_accuracy: 0.9874\n",
      "Epoch 21/35\n",
      "140/140 [==============================] - 0s 1ms/step - loss: 0.0022 - accuracy: 0.9998 - val_loss: 0.0878 - val_accuracy: 0.9865\n",
      "Epoch 22/35\n",
      "140/140 [==============================] - 0s 1ms/step - loss: 0.0021 - accuracy: 0.9998 - val_loss: 0.0868 - val_accuracy: 0.9865\n",
      "Epoch 23/35\n",
      "140/140 [==============================] - 0s 1ms/step - loss: 0.0021 - accuracy: 0.9998 - val_loss: 0.0903 - val_accuracy: 0.9857\n",
      "Epoch 24/35\n",
      "140/140 [==============================] - 0s 1ms/step - loss: 0.0019 - accuracy: 0.9998 - val_loss: 0.0895 - val_accuracy: 0.9865\n",
      "Epoch 25/35\n",
      "140/140 [==============================] - 0s 1ms/step - loss: 0.0018 - accuracy: 0.9998 - val_loss: 0.0918 - val_accuracy: 0.9857\n",
      "Epoch 26/35\n",
      "140/140 [==============================] - 0s 1ms/step - loss: 0.0016 - accuracy: 0.9998 - val_loss: 0.0903 - val_accuracy: 0.9857\n",
      "Epoch 27/35\n",
      "140/140 [==============================] - 0s 1ms/step - loss: 0.0018 - accuracy: 0.9998 - val_loss: 0.0970 - val_accuracy: 0.9839\n",
      "Epoch 28/35\n",
      "140/140 [==============================] - 0s 1ms/step - loss: 0.0016 - accuracy: 0.9998 - val_loss: 0.0996 - val_accuracy: 0.9848\n",
      "Epoch 29/35\n",
      "140/140 [==============================] - 0s 1ms/step - loss: 0.0016 - accuracy: 0.9998 - val_loss: 0.0984 - val_accuracy: 0.9839\n",
      "Epoch 30/35\n",
      "140/140 [==============================] - 0s 1ms/step - loss: 0.0015 - accuracy: 0.9998 - val_loss: 0.0980 - val_accuracy: 0.9848\n",
      "Epoch 31/35\n",
      "140/140 [==============================] - 0s 1ms/step - loss: 0.0015 - accuracy: 0.9998 - val_loss: 0.0979 - val_accuracy: 0.9839\n",
      "Epoch 32/35\n",
      "140/140 [==============================] - 0s 1ms/step - loss: 0.0015 - accuracy: 0.9998 - val_loss: 0.1049 - val_accuracy: 0.9839\n",
      "Epoch 33/35\n",
      "140/140 [==============================] - 0s 1ms/step - loss: 0.0014 - accuracy: 0.9998 - val_loss: 0.1075 - val_accuracy: 0.9839\n",
      "Epoch 34/35\n",
      "140/140 [==============================] - 0s 1ms/step - loss: 0.0013 - accuracy: 0.9998 - val_loss: 0.1089 - val_accuracy: 0.9839\n",
      "Epoch 35/35\n",
      "140/140 [==============================] - 0s 1ms/step - loss: 0.0012 - accuracy: 0.9998 - val_loss: 0.1039 - val_accuracy: 0.9839\n"
     ]
    }
   ],
   "source": [
    "#Epoch Function\n",
    "num_epochs = 35\n",
    "history=model.fit(padded, training_tags_final, epochs=num_epochs, validation_data=(testing_padded, testing_tags_final))"
   ]
  },
  {
   "cell_type": "code",
   "execution_count": 19,
   "id": "7e43de91",
   "metadata": {},
   "outputs": [
    {
     "name": "stdout",
     "output_type": "stream",
     "text": [
      "dict_keys(['loss', 'accuracy', 'val_loss', 'val_accuracy'])\n"
     ]
    }
   ],
   "source": [
    "# Data History List\n",
    "print(history.history.keys())"
   ]
  },
  {
   "cell_type": "code",
   "execution_count": 20,
   "id": "383c866f",
   "metadata": {},
   "outputs": [
    {
     "data": {
      "text/plain": [
       "<matplotlib.legend.Legend at 0x25844d16c70>"
      ]
     },
     "execution_count": 20,
     "metadata": {},
     "output_type": "execute_result"
    },
    {
     "data": {
      "image/png": "[encoded data removed]",
      "text/plain": [
       "<Figure size 432x288 with 1 Axes>"
      ]
     },
     "metadata": {
      "needs_background": "light"
     },
     "output_type": "display_data"
    }
   ],
   "source": [
    "#recalling the history \n",
    "#determining the accuracy\n",
    "plt.plot(history.history['loss'])\n",
    "plt.plot(history.history['val_loss'])\n",
    "plt.title('model loss')\n",
    "plt.ylabel('loss')\n",
    "plt.xlabel('epoch')\n",
    "plt.legend(['train', 'val'], loc='upper left')"
   ]
  },
  {
   "cell_type": "code",
   "execution_count": 21,
   "id": "4f9da581",
   "metadata": {},
   "outputs": [],
   "source": [
    "#Line Graph Display\n",
    "plt.show()"
   ]
  },
  {
   "cell_type": "code",
   "execution_count": 22,
   "id": "acb2c9d8",
   "metadata": {},
   "outputs": [
    {
     "data": {
      "text/html": [
       "<div>\n",
       "<style scoped>\n",
       "    .dataframe tbody tr th:only-of-type {\n",
       "        vertical-align: middle;\n",
       "    }\n",
       "\n",
       "    .dataframe tbody tr th {\n",
       "        vertical-align: top;\n",
       "    }\n",
       "\n",
       "    .dataframe thead th {\n",
       "        text-align: right;\n",
       "    }\n",
       "</style>\n",
       "<table border=\"1\" class=\"dataframe\">\n",
       "  <thead>\n",
       "    <tr style=\"text-align: right;\">\n",
       "      <th></th>\n",
       "      <th>labels</th>\n",
       "      <th>texts</th>\n",
       "    </tr>\n",
       "  </thead>\n",
       "  <tbody>\n",
       "    <tr>\n",
       "      <th>0</th>\n",
       "      <td>1</td>\n",
       "      <td>Feel Yourself That You Are Always Happy.. Slow...</td>\n",
       "    </tr>\n",
       "    <tr>\n",
       "      <th>1</th>\n",
       "      <td>2</td>\n",
       "      <td>staff.science.nus.edu.sg/~phyhcmk/teaching/pc1323</td>\n",
       "    </tr>\n",
       "    <tr>\n",
       "      <th>2</th>\n",
       "      <td>3</td>\n",
       "      <td>Send me yetty's number pls.</td>\n",
       "    </tr>\n",
       "    <tr>\n",
       "      <th>3</th>\n",
       "      <td>4</td>\n",
       "      <td>Hey so this sat are we going for the intro pil...</td>\n",
       "    </tr>\n",
       "    <tr>\n",
       "      <th>4</th>\n",
       "      <td>5</td>\n",
       "      <td>I got it before the new year cos yetunde said ...</td>\n",
       "    </tr>\n",
       "  </tbody>\n",
       "</table>\n",
       "</div>"
      ],
      "text/plain": [
       "   labels                                              texts\n",
       "0       1  Feel Yourself That You Are Always Happy.. Slow...\n",
       "1       2  staff.science.nus.edu.sg/~phyhcmk/teaching/pc1323\n",
       "2       3                        Send me yetty's number pls.\n",
       "3       4  Hey so this sat are we going for the intro pil...\n",
       "4       5  I got it before the new year cos yetunde said ..."
      ]
     },
     "execution_count": 22,
     "metadata": {},
     "output_type": "execute_result"
    }
   ],
   "source": [
    "#Data Display\n",
    "dataset = pd.read_csv('output_spam.csv',encoding='latin-1')\n",
    "dataset = dataset.rename(columns={\"ï»¿\":'labels', \"text\":'texts'})\n",
    "dataset.head()"
   ]
  },
  {
   "cell_type": "code",
   "execution_count": 23,
   "id": "c0488a34",
   "metadata": {
    "scrolled": true
   },
   "outputs": [
    {
     "name": "stdout",
     "output_type": "stream",
     "text": [
      "0     Feel Yourself That You Are Always Happy.. Slow...\n",
      "1     staff.science.nus.edu.sg/~phyhcmk/teaching/pc1323\n",
      "2                           Send me yetty's number pls.\n",
      "3     Hey so this sat are we going for the intro pil...\n",
      "4     I got it before the new year cos yetunde said ...\n",
      "5     Hey we can go jazz power yoga hip hop kb and y...\n",
      "6     Hey mate. Spoke to the mag people. Weâ°ÃÃ·re...\n",
      "7                                Morning only i can ok.\n",
      "8                                  Wat time Ã_ finish?\n",
      "9                 Shant disturb u anymore... Jia you...\n",
      "10    4mths half price Orange line rental & latest c...\n",
      "11    Your opinion about me? 1. Over 2. Jada 3. Kusr...\n",
      "12    MOON has come to color your dreams, STARS to m...\n",
      "13    You are a winner U have been specially selecte...\n",
      "14    Unless it's a situation where YOU GO GURL woul...\n",
      "15    Awww dat is sweet! We can think of something t...\n",
      "16                              Bring tat cd don forget\n",
      "17    Single line with a big meaning::::: \\Miss anyt...\n",
      "18       Jay's getting really impatient and belligerent\n",
      "19    Lol they were mad at first but then they woke ...\n",
      "Name: texts, dtype: object\n",
      "1/1 [==============================] - 0s 69ms/step\n"
     ]
    }
   ],
   "source": [
    "#Message Display\n",
    "messages = dataset['texts'].astype(str)\n",
    "print(messages)\n",
    "\n",
    "#Sequence Making\n",
    "padding_type='post'\n",
    "sample_sequences = tokenizer.texts_to_sequences(messages)\n",
    "fakes_padded = pad_sequences(sample_sequences, padding=padding_type, maxlen=max_length)           \n",
    "\n",
    "classes = model.predict(fakes_padded)"
   ]
  },
  {
   "cell_type": "code",
   "execution_count": 24,
   "id": "12b0dc94",
   "metadata": {},
   "outputs": [
    {
     "name": "stdout",
     "output_type": "stream",
     "text": [
      "Feel Yourself That You Are Always Happy.. Slowly It Becomes Your Habit &amp; Finally It Becomes Part Of Your Life.. Follow It.. Happy Morning &amp; Have A Happy Day:)\n",
      "[4.524511e-16]\n",
      "\n",
      "\n",
      "staff.science.nus.edu.sg/~phyhcmk/teaching/pc1323\n",
      "[0.01750254]\n",
      "\n",
      "\n",
      "Send me yetty's number pls.\n",
      "[6.321907e-05]\n",
      "\n",
      "\n",
      "Hey so this sat are we going for the intro pilates only? Or the kickboxing too? \n",
      "[4.5369347e-07]\n",
      "\n",
      "\n",
      "I got it before the new year cos yetunde said she wanted to surprise you with it but when i didnt see money i returned it mid january before the  &lt;#&gt; day return period ended.\n",
      "[4.3686686e-12]\n",
      "\n",
      "\n",
      "Hey we can go jazz power yoga hip hop kb and yogasana \n",
      "[5.129424e-07]\n",
      "\n",
      "\n",
      "Hey mate. Spoke to the mag people. Weâ°ÃÃ·re on.  the is deliver by the end of the month. Deliver on the 24th sept. Talk later. \n",
      "[9.104025e-09]\n",
      "\n",
      "\n",
      "Morning only i can ok.\n",
      "[1.0978283e-08]\n",
      "\n",
      "\n",
      "Wat time Ã_ finish?\n",
      "[3.75261e-05]\n",
      "\n",
      "\n",
      "Shant disturb u anymore... Jia you...\n",
      "[0.00025403]\n",
      "\n",
      "\n",
      "4mths half price Orange line rental & latest camera phones 4 FREE. Had your phone 11mths ? Call MobilesDirect free on 08000938767 to update now! or2stoptxt\n",
      "[0.9999237]\n",
      "\n",
      "\n",
      "Your opinion about me? 1. Over 2. Jada 3. Kusruthi 4. Lovable 5. Silent 6. Spl character 7. Not matured 8. Stylish 9. Simple Pls reply..\n",
      "[7.168642e-05]\n",
      "\n",
      "\n",
      "MOON has come to color your dreams, STARS to make them musical and my SMS to give you warm and Peaceful Sleep. Good Night\n",
      "[1.2197108e-05]\n",
      "\n",
      "\n",
      "You are a winner U have been specially selected 2 receive Ã¥Â£1000 cash or a 4* holiday (flights inc) speak to a live operator 2 claim 0871277810810\n",
      "[0.9999048]\n",
      "\n",
      "\n",
      "Unless it's a situation where YOU GO GURL would be more appropriate\n",
      "[4.9982078e-05]\n",
      "\n",
      "\n",
      "Awww dat is sweet! We can think of something to do he he! Have a nice time tonight ill probably txt u later cos im lonely :( xxx.\n",
      "[3.6690977e-15]\n",
      "\n",
      "\n",
      "Bring tat cd don forget\n",
      "[0.00048688]\n",
      "\n",
      "\n",
      "Single line with a big meaning::::: \\Miss anything 4 ur \\\"Best Life\\\" but\n",
      "[5.6529516e-05]\n",
      "\n",
      "\n",
      "Jay's getting really impatient and belligerent\n",
      "[0.00266537]\n",
      "\n",
      "\n",
      "Lol they were mad at first but then they woke up and gave in.\n",
      "[2.4431495e-06]\n",
      "\n",
      "\n"
     ]
    }
   ],
   "source": [
    "#Spam Messages Classification\n",
    "for x in range(len(messages)):\n",
    "  print(messages[x])\n",
    "  print(classes[x])\n",
    "  print('\\n')"
   ]
  },
  {
   "cell_type": "code",
   "execution_count": null,
   "id": "537f520d",
   "metadata": {},
   "outputs": [],
   "source": []
  }
 ],
 "metadata": {
  "kernelspec": {
   "display_name": "Python 3 (ipykernel)",
   "language": "python",
   "name": "python3"
  },
  "language_info": {
   "codemirror_mode": {
    "name": "ipython",
    "version": 3
   },
   "file_extension": ".py",
   "mimetype": "text/x-python",
   "name": "python",
   "nbconvert_exporter": "python",
   "pygments_lexer": "ipython3",
   "version": "3.9.12"
  }
 },
 "nbformat": 4,
 "nbformat_minor": 5
}
